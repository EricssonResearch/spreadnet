{
 "cells": [
  {
   "cell_type": "code",
   "execution_count": 4,
   "metadata": {},
   "outputs": [],
   "source": [
    "# from experiments import generate_dataset\n",
    "from query_processor import QP_sp_continuity\n",
    "import matplotlib.pyplot as plt\n",
    "import networkx as nx\n",
    "import os\n",
    "import json\n",
    "from spreadnet.datasets.data_utils.draw import draw_networkx\n",
    "from spreadnet.utils import post_processor\n",
    "from query_processor import QP_sp_continuity as qp_utils\n",
    "import timeit\n",
    "from copy import deepcopy\n",
    "from experiments.hybrid_sp import hybrid_utils\n",
    "%matplotlib inline"
   ]
  },
  {
   "cell_type": "code",
   "execution_count": 5,
   "metadata": {},
   "outputs": [],
   "source": [
    "file_2 = os.path.join('predicted_exp1_sp.json')\n",
    "pred_grp = hybrid_utils.read_json_file(file_2)\n",
    "\n",
    "file_3 = os.path.join('ground_truth_exp1_sp.json')\n",
    "gt_grp = hybrid_utils.read_json_file(file_3)"
   ]
  },
  {
   "cell_type": "code",
   "execution_count": 6,
   "metadata": {},
   "outputs": [],
   "source": [
    "gt_grph_1 = hybrid_utils.read_json_file('gt_exp2.json')\n",
    "pred_grp_1 = hybrid_utils.read_json_file('pred_exp2.json')"
   ]
  },
  {
   "cell_type": "code",
   "execution_count": null,
   "metadata": {},
   "outputs": [],
   "source": [
    "def extract_path(G):\n",
    "    \"\"\"\n",
    "    _summary_\n",
    "\n",
    "    _extended_summary_\n",
    "\n",
    "    Args:\n",
    "        G (_type_): _description_\n",
    "\n",
    "    Returns:\n",
    "        _type_: _description_\n",
    "    \"\"\"    \n",
    "    sp_path = []\n",
    "    sp_path_edges = []\n",
    "    sp_pos = {}\n",
    "\n",
    "    for i in range(0, G.number_of_nodes()):\n",
    "        sp_pos[i] = G.nodes[i][\"pos\"]\n",
    "\n",
    "    for i in range(0, len(G.nodes)):\n",
    "        if G.nodes[i][\"is_in_path\"]:\n",
    "            sp_path.append(i)\n",
    "\n",
    "    edges_list = list(G.edges(data=True))\n",
    "\n",
    "    for e in edges_list:\n",
    "        if e[2][\"is_in_path\"]:\n",
    "            sp_path_edges.append([e[0], e[1]])\n",
    "\n",
    "    return sp_path, sp_path_edges, sp_pos"
   ]
  },
  {
   "cell_type": "code",
   "execution_count": null,
   "metadata": {},
   "outputs": [],
   "source": [
    "def path_continuos_traversal(G,start_node_idx):\n",
    "        \"\"\"\n",
    "        Traverses a simple path based on probabilities in a given graph G; starting form given node start_node_idx. This node can be any node in graph, but the traversal will only look ahead for nodes and edges that are \"is_in_path\"\n",
    "        Args:\n",
    "                G (nx.DiGraph): graph to operate on\n",
    "                start_node_idx (int): index for the node in G\n",
    "\n",
    "        Returns:\n",
    "                visited (list[int]): ordered nodes from start node index\n",
    "                potential_node (list(int)):nodes which have an in_path incoming edge but node itself is not in_path\n",
    "                potential_edge (list(int)): nodes which have no in_path incoming edge but are in_path\n",
    "                disconnected (list(int)): nodes which have no in_path nodes or edges; broken path    \n",
    "        \"\"\"         \n",
    "        visited = [start_node_idx]\n",
    "        next_visit = visited[-1]\n",
    "        \n",
    "        potential_node = []\n",
    "        potential_edge = []\n",
    "        disconnected = []\n",
    "        flag = True\n",
    "        \n",
    "        \n",
    "        while flag and G.nodes[next_visit]['is_in_path']:\n",
    "                in_cont_path = look_ahead(G,next_visit)\n",
    "                for u,v,status in in_cont_path :\n",
    "                        check_v_in_path = G.nodes[v]['is_in_path']\n",
    "                        if status=='is_connected' or status=='end_is_connected':\n",
    "                                visited.append(v)\n",
    "                                next_visit = visited[-1]\n",
    "                                flag= True\n",
    "                                break\n",
    "                        else:\n",
    "                                if status=='is_potential_node':   \n",
    "                                        potential_node.append(v)\n",
    "                                        next_visit = visited[-1]\n",
    "                                        flag= True\n",
    "                                        continue  \n",
    "                                        \n",
    "                                elif status=='is_potential_edge' and not check_v_in_path:\n",
    "                                        potential_edge.append(v)\n",
    "                                        next_visit = visited[-1]\n",
    "                                        flag= True\n",
    "                                        continue\n",
    "                    \n",
    "                else:\n",
    "                        if status=='is_disconnected':\n",
    "                                disconnected.append(u)\n",
    "\n",
    "                        break\n",
    "                             \n",
    "  \n",
    "        return visited, potential_node, potential_edge, disconnected\n"
   ]
  },
  {
   "cell_type": "code",
   "execution_count": null,
   "metadata": {},
   "outputs": [],
   "source": [
    "path_continuos_traversal(pred_grp,20)"
   ]
  },
  {
   "cell_type": "code",
   "execution_count": null,
   "metadata": {},
   "outputs": [],
   "source": [
    "path_continuos_traversal(gt_grp,21)"
   ]
  },
  {
   "cell_type": "code",
   "execution_count": null,
   "metadata": {},
   "outputs": [],
   "source": [
    "visited, potential_node, potential_edge, disconnected= path_continuos_traversal(pred_grp, 20)\n",
    "visited, potential_node, potential_edge, disconnected"
   ]
  },
  {
   "cell_type": "code",
   "execution_count": null,
   "metadata": {},
   "outputs": [],
   "source": [
    "path_continuos_traversal(pred_grp_1,7)"
   ]
  },
  {
   "cell_type": "code",
   "execution_count": null,
   "metadata": {},
   "outputs": [],
   "source": [
    "extract_path(pred_grp_1)"
   ]
  },
  {
   "cell_type": "code",
   "execution_count": null,
   "metadata": {},
   "outputs": [],
   "source": [
    "def eval_path(G,node_idx):\n",
    "    \"\"\"\n",
    "    _summary_\n",
    "\n",
    "    _extended_summary_\n",
    "\n",
    "    Args:\n",
    "        G (_type_): _description_\n",
    "        node_idx (_type_): _description_\n",
    "    \"\"\"\n",
    "    visited, potential_node, potential_edge, disconnected = path_continuos_traversal(G,node_idx)\n",
    "    G_nodes, G_edges, G_pos = extract_path(G)\n",
    "    \n",
    "    # evaluate visited\n",
    "    if nx.is_simple_path(G,visited):\n",
    "        print(f\"is simple path\")\n",
    "        #TODO: 1. check if first node is start and last is end\n",
    "        #2. check if there are potentials to add\n",
    "        #3. do some checks to them and add in right places\n",
    "        \n",
    "        \n",
    "    else:\n",
    "        print(\"not a valid path\")\n",
    "    \n",
    "    \n",
    "    \n",
    "    \n",
    "    \n",
    "    "
   ]
  },
  {
   "cell_type": "code",
   "execution_count": null,
   "metadata": {},
   "outputs": [],
   "source": [
    "eval_path(pred_grp_1,node_idx = 7)"
   ]
  },
  {
   "cell_type": "code",
   "execution_count": null,
   "metadata": {},
   "outputs": [],
   "source": []
  }
 ],
 "metadata": {
  "kernelspec": {
   "display_name": "Python 3.9.13 ('gnn-env')",
   "language": "python",
   "name": "python3"
  },
  "language_info": {
   "codemirror_mode": {
    "name": "ipython",
    "version": 3
   },
   "file_extension": ".py",
   "mimetype": "text/x-python",
   "name": "python",
   "nbconvert_exporter": "python",
   "pygments_lexer": "ipython3",
   "version": "3.9.13"
  },
  "orig_nbformat": 4,
  "vscode": {
   "interpreter": {
    "hash": "70efb47c02a3c8199058826817dfae9945fade38a5684c1af3e3269d964a6632"
   }
  }
 },
 "nbformat": 4,
 "nbformat_minor": 2
}
