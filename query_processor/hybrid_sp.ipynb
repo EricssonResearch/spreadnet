{
 "cells": [
  {
   "cell_type": "code",
   "execution_count": null,
   "metadata": {},
   "outputs": [],
   "source": [
    "# from experiments import generate_dataset\n",
    "from query_processor import QP_sp_continuity\n",
    "import matplotlib.pyplot as plt\n",
    "import networkx as nx\n",
    "import os\n",
    "import json\n",
    "from spreadnet.datasets.data_utils.draw import draw_networkx\n",
    "from spreadnet.utils import post_processor\n",
    "from query_processor import QP_sp_continuity as qp_utils\n",
    "import timeit\n",
    "from copy import deepcopy\n",
    "%matplotlib inline"
   ]
  },
  {
   "cell_type": "code",
   "execution_count": null,
   "metadata": {},
   "outputs": [],
   "source": [
    "file_2 = os.path.join('predicted_exp1_sp.json')\n",
    "pred_grp = QP_sp_continuity.read_json_file(file_2)\n",
    "\n",
    "file_3 = os.path.join('ground_truth_exp1_sp.json')\n",
    "gt_grp = QP_sp_continuity.read_json_file(file_3)"
   ]
  },
  {
   "cell_type": "code",
   "execution_count": null,
   "metadata": {},
   "outputs": [],
   "source": [
    "gt_grph_1 = QP_sp_continuity.read_json_file('gt_exp2.json')\n",
    "pred_grp_1 = QP_sp_continuity.read_json_file('pred_exp2.json')"
   ]
  },
  {
   "cell_type": "code",
   "execution_count": null,
   "metadata": {},
   "outputs": [],
   "source": [
    "QP_sp_continuity.draw_networkx_utils(pred_grp)"
   ]
  },
  {
   "cell_type": "code",
   "execution_count": null,
   "metadata": {},
   "outputs": [],
   "source": [
    "QP_sp_continuity.draw_networkx_utils(pred_grp_1)"
   ]
  },
  {
   "cell_type": "code",
   "execution_count": null,
   "metadata": {},
   "outputs": [],
   "source": [
    "def is_continuos(G):\n",
    "    # find start and nodes\n",
    "    g_path_idx, g_edges_idx, g_pos = QP_sp_continuity.extract_path(G)\n",
    "\n",
    "\n",
    "    is_start_index = 0\n",
    "    is_end_index = 0\n",
    "    \n",
    "    print(f\"edges: {g_edges_idx}\")\n",
    "    detected = []\n",
    "    missing_out_edge = []\n",
    "    for i in g_path_idx:  # list of node indexes that are in path\n",
    "        if G.nodes[i][\"is_start\"] is True:\n",
    "            is_start_index = i\n",
    "        \n",
    "        if G.nodes[i][\"is_end\"] is True:\n",
    "            is_end_index = i\n",
    "        \n",
    "        succ_list = list(G.successors(i))\n",
    "        print(f\"curr_node:{i}, successors:{succ_list}\")\n",
    "        out_from_curr = list(\n",
    "            G.out_edges(i, data=\"is_in_path\")\n",
    "        )  # outgoing edges from curr node\n",
    "       \n",
    "        missing = 0\n",
    "        for e in out_from_curr:\n",
    "            if e[2] == True:  # for each outgoing edge e, 'is_in_path' is true\n",
    "                print(f\"{e} --> edge exits\")\n",
    "                detected.append(e)\n",
    "                break\n",
    "            \n",
    "            else:\n",
    "                missing = missing + 1\n",
    "                if missing == len(succ_list):  # iterate over all successor nodes until end node reached\n",
    "                    if G.nodes[i][\"is_end\"] is False:\n",
    "                        print(f\"no outgoing edges from node {i} to successors\")\n",
    "                        missing_out_edge.append(i)\n",
    "                        \n",
    "                    else:\n",
    "                        print(f\"end node reached:{i}\")\n",
    "                \n",
    "                        break\n",
    "                    print(\"\\n\")\n",
    "   \n",
    "        \n",
    "                    \n",
    "    #print(\"\\n\\n\")\n",
    "    print(f\"nodes_in_path:{g_path_idx}\")\n",
    "    #print(f\"Start_node:{is_start_index}\")\n",
    "    #print(f\"End_node:{is_end_index}\")\n",
    "    print(f\"detected out going edges from nodes that are predicted as 'is_in_path':{detected}\")\n",
    "    print(f\"missing out going edge from :{missing_out_edge}\")\n",
    "    \n",
    "    \n"
   ]
  },
  {
   "cell_type": "code",
   "execution_count": null,
   "metadata": {},
   "outputs": [],
   "source": [
    "def look_ahead(G, node_idx):\n",
    "    \n",
    "    in_cont_path = []\n",
    "    node_out_edges = list(G.out_edges(node_idx,data=True))\n",
    "    # print(f\"node's_all_edges: {G.edges(node_idx)}\\n\")\n",
    "    # print(f\"node's_in_edges: {G.in_edges(node_idx)}\\n\")\n",
    "    # print(f\"node's_out_edges: {G.out_edges(node_idx)}\\n\")\n",
    "    \n",
    "    for u,v,data in node_out_edges:\n",
    "        # print(u,v)\n",
    "        # print(data['is_in_path'])\n",
    "        e_frm_u = data['is_in_path'] \n",
    "        next_node_v = G.nodes[v]['is_in_path']\n",
    "        \n",
    "        if G.nodes[v]['is_end']:\n",
    "            in_cont_path.append(tuple((u,v,'end_is_connected')))\n",
    "            break\n",
    "        else:\n",
    "           \n",
    "            if e_frm_u and next_node_v: \n",
    "                    #confirmed link between u,v where uv are also in path\n",
    "                    # print(f\"edge {u} -> {v},    node {v} exists\\n\")\n",
    "                in_cont_path.append(tuple((u,v,'is_connected')))\n",
    "                \n",
    "            elif e_frm_u==False and next_node_v:\n",
    "                    # missing link between u,v but v is in path; hence this a potential edge\n",
    "                    # print(f\"edge {u} -- {v} ,   but next node {v} exists\\n\")\n",
    "                in_cont_path.append(tuple((u,v,'is_potential_edge')))\n",
    "                \n",
    "            elif e_frm_u and next_node_v==False:\n",
    "                    #confirmed link between u,v but v is not in path; hence this is potential next node \n",
    "                    # print(f\"edge {u} -> {v}     but next node {v} does not exist\\n\")\n",
    "                in_cont_path.append(tuple((u,v,'is_potential_node')))\n",
    "                \n",
    "            elif e_frm_u==False and next_node_v==False:\n",
    "                    #neither edge or node is in path; not required\n",
    "                    # print(f\"edge {u} -- {v}     next node {v} does not exist\\n\")\n",
    "                in_cont_path.append(tuple((u,v,'is_disconnected')))       \n",
    "   \n",
    "    return in_cont_path\n",
    "    "
   ]
  },
  {
   "cell_type": "code",
   "execution_count": null,
   "metadata": {},
   "outputs": [],
   "source": [
    "look_ahead(pred_grp,4)"
   ]
  },
  {
   "cell_type": "code",
   "execution_count": null,
   "metadata": {},
   "outputs": [],
   "source": [
    "look_ahead(pred_grp_1,17)"
   ]
  },
  {
   "cell_type": "code",
   "execution_count": null,
   "metadata": {},
   "outputs": [],
   "source": [
    "look_ahead(pred_grp,20)"
   ]
  },
  {
   "cell_type": "code",
   "execution_count": null,
   "metadata": {},
   "outputs": [],
   "source": [
    "look_ahead(pred_grp_1,17)"
   ]
  },
  {
   "cell_type": "code",
   "execution_count": null,
   "metadata": {},
   "outputs": [],
   "source": [
    "pred_grp.edges[20,2]"
   ]
  },
  {
   "cell_type": "code",
   "execution_count": null,
   "metadata": {},
   "outputs": [],
   "source": [
    "def node_walk(G,start_node_idx):\n",
    "        \n",
    "    visited = [start_node_idx]\n",
    "    #visited = []\n",
    "    # print(f\"start:{visited[0]}\")\n",
    "    next_visit = visited[-1]\n",
    "    #next_visit = [start_node_idx]\n",
    "    print(f\"next_visit:{next_visit}\")\n",
    "    \n",
    "    potential_node = []\n",
    "    potential_edge = []\n",
    "    flag = True\n",
    "    \n",
    "    \n",
    "    while flag and G.nodes[next_visit]['is_in_path']:\n",
    "            \n",
    "        in_cont_path = look_ahead(G,next_visit)\n",
    "        for u,v,status in in_cont_path :\n",
    "                check_u_in_path = G.nodes[u]['is_in_path']\n",
    "                check_v_in_path = G.nodes[v]['is_in_path']\n",
    "                check_e_in_path = G.edges[u,v]['is_in_path']\n",
    "                if status=='is_connected' or status=='end_is_connected':\n",
    "                        print(f\" is_connected at:{u},{v}\")\n",
    "                        visited.append(v)\n",
    "                        print(f\"visited: {visited}\")\n",
    "                        next_visit = visited[-1]\n",
    "                        print(f\"next_visited: {next_visit}\")\n",
    "                        flag= True\n",
    "                        break\n",
    "                \n",
    "                elif status=='is_potential_node':   \n",
    "                        potential_node.append(v)\n",
    "                        print(f\"potential node at:{u},{v}\")\n",
    "                        print(f\"visited: {visited}\")\n",
    "                        next_visit = visited[-1]\n",
    "                        print(f\"next_visited: {next_visit}\")\n",
    "                        flag= True\n",
    "                        continue  \n",
    "                           \n",
    "                elif status=='is_potential_edge' and check_v_in_path==False:\n",
    "                        print(f\"potential_edge at:{u},{v}\")\n",
    "                        potential_edge.append(v)\n",
    "                        print(f\"visited: {visited}\")\n",
    "                        next_visit = visited[-1]\n",
    "                        print(f\"next_visited: {next_visit}\")\n",
    "                        flag= True\n",
    "                        continue\n",
    "                \n",
    "                # elif status=='end_is_connected':\n",
    "                #         print(f\"end_is_connected at:{u},{v}\")\n",
    "                #         visited.append(v)\n",
    "                #         print(f\"visited: {visited}\")\n",
    "                #         flag= False\n",
    "                #         next_visit = visited[-1]\n",
    "                #         print(f\"next_visited: {next_visit}\")\n",
    "                #         break\n",
    "                \n",
    "                elif status=='is_disconnected':\n",
    "                        print(f\"disconnected at:{u},{v}\")\n",
    "                        print(f\"visited: {visited}\")\n",
    "                        flag= False\n",
    "                        next_visit = visited[-1]\n",
    "                        print(f\"next_visited: {next_visit}\")\n",
    "                        continue \n",
    "                     \n",
    "                        \n",
    "                        \n",
    "                        \n",
    "   \n",
    "    return visited, potential_node, potential_edge \n",
    "        "
   ]
  },
  {
   "cell_type": "code",
   "execution_count": null,
   "metadata": {},
   "outputs": [],
   "source": [
    "node_walk(pred_grp,20)"
   ]
  },
  {
   "cell_type": "code",
   "execution_count": null,
   "metadata": {},
   "outputs": [],
   "source": [
    "node_walk(pred_grp_1,7)"
   ]
  },
  {
   "cell_type": "code",
   "execution_count": null,
   "metadata": {},
   "outputs": [],
   "source": [
    "nx.is_simple_path(gt_grp,node_walk(gt_grp,21)[0])"
   ]
  },
  {
   "cell_type": "code",
   "execution_count": null,
   "metadata": {},
   "outputs": [],
   "source": [
    "visited, potential_node, potential_edge  = node_walk(pred_grp_1,7)\n",
    "visited, potential_node, potential_edge"
   ]
  },
  {
   "cell_type": "code",
   "execution_count": null,
   "metadata": {},
   "outputs": [],
   "source": [
    "visited, potential_node, potential_edge  = node_walk(pred_grp,20)\n",
    "visited, potential_node, potential_edge"
   ]
  },
  {
   "cell_type": "code",
   "execution_count": null,
   "metadata": {},
   "outputs": [],
   "source": []
  },
  {
   "cell_type": "code",
   "execution_count": null,
   "metadata": {},
   "outputs": [],
   "source": [
    "def node_walk_1(G,start_node_idx):\n",
    "    visited = [start_node_idx]\n",
    "    next_visit = visited[-1]\n",
    "    \n",
    "    potential_node = []\n",
    "    potential_edge = []\n",
    "    flag = True\n",
    "    \n",
    "    while flag and G.nodes[next_visit]['is_in_path']:\n",
    "        in_cont_path = look_ahead(G,next_visit)\n",
    "        for u,v,status in in_cont_path :\n",
    "                check_u_in_path = G.nodes[u]['is_in_path']\n",
    "                check_v_in_path = G.nodes[v]['is_in_path']\n",
    "                check_e_in_path = G.edges[u,v]['is_in_path']\n",
    "                if status=='is_connected' or status=='end_is_connected':\n",
    "                        print(f\" is_connected at:{u},{v}\")\n",
    "                        visited.append(v)\n",
    "                        print(f\"visited: {visited}\")\n",
    "                        next_visit = visited[-1]\n",
    "                        print(f\"next_visited: {next_visit}\")\n",
    "                        flag= True\n",
    "                        break\n",
    "                else:\n",
    "                    if status=='is_potential_node':   \n",
    "                            potential_node.append(v)\n",
    "                            print(f\"potential node at:{u},{v}\")\n",
    "                            print(f\"visited: {visited}\")\n",
    "                            next_visit = visited[-1]\n",
    "                            print(f\"next_visited: {next_visit}\")\n",
    "                            flag= True\n",
    "                            continue  \n",
    "                            \n",
    "                    elif status=='is_potential_edge' and check_v_in_path==False:\n",
    "                            print(f\"potential_edge at:{u},{v}\")\n",
    "                            potential_edge.append(v)\n",
    "                            print(f\"visited: {visited}\")\n",
    "                            next_visit = visited[-1]\n",
    "                            print(f\"next_visited: {next_visit}\")\n",
    "                            flag= True\n",
    "                            continue\n",
    "                    \n",
    "        else:\n",
    "                if status=='is_disconnected':\n",
    "                            print(f\"disconnected at:{u},{v}\")\n",
    "                            print(f\"visited: {visited}\")\n",
    "                            print(f\"next_visited: {next_visit}\")\n",
    "                break\n",
    "                             \n",
    "  \n",
    "    return visited, potential_node, potential_edge \n",
    "        "
   ]
  },
  {
   "cell_type": "code",
   "execution_count": null,
   "metadata": {},
   "outputs": [],
   "source": [
    "node_walk_1(pred_grp,2)"
   ]
  },
  {
   "cell_type": "code",
   "execution_count": null,
   "metadata": {},
   "outputs": [],
   "source": [
    "node_walk_1(pred_grp_1,16)\n"
   ]
  },
  {
   "cell_type": "code",
   "execution_count": null,
   "metadata": {},
   "outputs": [],
   "source": [
    "node_walk_1(gt_grp,21)"
   ]
  },
  {
   "cell_type": "code",
   "execution_count": null,
   "metadata": {},
   "outputs": [],
   "source": []
  },
  {
   "cell_type": "code",
   "execution_count": null,
   "metadata": {},
   "outputs": [],
   "source": []
  },
  {
   "cell_type": "code",
   "execution_count": null,
   "metadata": {},
   "outputs": [],
   "source": []
  },
  {
   "cell_type": "code",
   "execution_count": null,
   "metadata": {},
   "outputs": [],
   "source": []
  },
  {
   "cell_type": "code",
   "execution_count": null,
   "metadata": {},
   "outputs": [],
   "source": []
  },
  {
   "cell_type": "code",
   "execution_count": null,
   "metadata": {},
   "outputs": [],
   "source": []
  },
  {
   "cell_type": "code",
   "execution_count": null,
   "metadata": {},
   "outputs": [],
   "source": []
  },
  {
   "cell_type": "code",
   "execution_count": null,
   "metadata": {},
   "outputs": [],
   "source": []
  },
  {
   "cell_type": "code",
   "execution_count": null,
   "metadata": {},
   "outputs": [],
   "source": [
    "def have_bidirectional_relationship(G, node1, node2):\n",
    "    return G.has_edge(node1, node2) and G.has_edge(node2, node1)\n"
   ]
  },
  {
   "cell_type": "code",
   "execution_count": null,
   "metadata": {},
   "outputs": [],
   "source": [
    "have_bidirectional_relationship(pred_grp,5,4)"
   ]
  },
  {
   "cell_type": "code",
   "execution_count": null,
   "metadata": {},
   "outputs": [],
   "source": [
    "ex_wlk_1_grph, ex_wlk_1_edge_weights = post_processor.exhaustive_probability_walk(deepcopy(pred_grp),prob_threshold=0.25)\n",
    "ex_wlk_1_grph,ex_wlk_1_edge_weights\n",
    "applied_grph,applied_grph_edges = post_processor.apply_path_on_graph(deepcopy(pred_grp),path=ex_wlk_1_edge_weights,require_clean=False)\n",
    "qp_utils.draw_networkx_utils(applied_grph)"
   ]
  },
  {
   "cell_type": "code",
   "execution_count": null,
   "metadata": {},
   "outputs": [],
   "source": [
    "list(nx.dfs_edges(applied_grph_1[0], source= 21))"
   ]
  },
  {
   "cell_type": "code",
   "execution_count": null,
   "metadata": {},
   "outputs": [],
   "source": []
  }
 ],
 "metadata": {
  "kernelspec": {
   "display_name": "Python 3.9.13 ('gnn-env')",
   "language": "python",
   "name": "python3"
  },
  "language_info": {
   "codemirror_mode": {
    "name": "ipython",
    "version": 3
   },
   "file_extension": ".py",
   "mimetype": "text/x-python",
   "name": "python",
   "nbconvert_exporter": "python",
   "pygments_lexer": "ipython3",
   "version": "3.9.13"
  },
  "orig_nbformat": 4,
  "vscode": {
   "interpreter": {
    "hash": "70efb47c02a3c8199058826817dfae9945fade38a5684c1af3e3269d964a6632"
   }
  }
 },
 "nbformat": 4,
 "nbformat_minor": 2
}
